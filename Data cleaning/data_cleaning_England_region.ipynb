{
 "cells": [
  {
   "cell_type": "code",
   "execution_count": 1,
   "id": "a69ac773",
   "metadata": {},
   "outputs": [],
   "source": [
    "# Author: Geethu Thottungal Harilal\n",
    "# data from : https://power.larc.nasa.gov/data-access-viewer/\n",
    "\n",
    "# This code will check the missing data, format the date coulmn and handles the columns with outliers \n",
    "# and chnages the column names into meaningful manner in England area\n"
   ]
  },
  {
   "cell_type": "markdown",
   "id": "3341b6cb",
   "metadata": {},
   "source": [
    "### Imports"
   ]
  },
  {
   "cell_type": "code",
   "execution_count": 2,
   "id": "8c349d2a",
   "metadata": {},
   "outputs": [],
   "source": [
    "# import required libraries\n",
    "import pandas as pd\n",
    "import matplotlib.pyplot as plt\n",
    "import seaborn as sns\n",
    "import numpy as np\n"
   ]
  },
  {
   "cell_type": "markdown",
   "id": "1c7c99ef",
   "metadata": {},
   "source": [
    "## Reading dataset"
   ]
  },
  {
   "cell_type": "code",
   "execution_count": 3,
   "id": "3b2e385d",
   "metadata": {},
   "outputs": [],
   "source": [
    "data = pd.read_csv(\"England_daily_1981-2023 July.csv\")"
   ]
  },
  {
   "cell_type": "code",
   "execution_count": 4,
   "id": "1429d092",
   "metadata": {},
   "outputs": [
    {
     "data": {
      "text/plain": [
       "(15551, 24)"
      ]
     },
     "execution_count": 4,
     "metadata": {},
     "output_type": "execute_result"
    }
   ],
   "source": [
    "data.shape"
   ]
  },
  {
   "cell_type": "code",
   "execution_count": 5,
   "id": "2d00de70",
   "metadata": {},
   "outputs": [
    {
     "data": {
      "text/html": [
       "<div>\n",
       "<style scoped>\n",
       "    .dataframe tbody tr th:only-of-type {\n",
       "        vertical-align: middle;\n",
       "    }\n",
       "\n",
       "    .dataframe tbody tr th {\n",
       "        vertical-align: top;\n",
       "    }\n",
       "\n",
       "    .dataframe thead th {\n",
       "        text-align: right;\n",
       "    }\n",
       "</style>\n",
       "<table border=\"1\" class=\"dataframe\">\n",
       "  <thead>\n",
       "    <tr style=\"text-align: right;\">\n",
       "      <th></th>\n",
       "      <th>YEAR</th>\n",
       "      <th>MO</th>\n",
       "      <th>DY</th>\n",
       "      <th>PS</th>\n",
       "      <th>WS10M</th>\n",
       "      <th>WS10M_MAX</th>\n",
       "      <th>WS10M_MIN</th>\n",
       "      <th>WS10M_RANGE</th>\n",
       "      <th>WD10M</th>\n",
       "      <th>QV2M</th>\n",
       "      <th>...</th>\n",
       "      <th>T2MWET</th>\n",
       "      <th>TS</th>\n",
       "      <th>T2M_RANGE</th>\n",
       "      <th>T2M_MAX</th>\n",
       "      <th>T2M_MIN</th>\n",
       "      <th>WD50M</th>\n",
       "      <th>WS50M_RANGE</th>\n",
       "      <th>WS50M_MIN</th>\n",
       "      <th>WS50M_MAX</th>\n",
       "      <th>WS50M</th>\n",
       "    </tr>\n",
       "  </thead>\n",
       "  <tbody>\n",
       "    <tr>\n",
       "      <th>0</th>\n",
       "      <td>1981</td>\n",
       "      <td>1</td>\n",
       "      <td>2</td>\n",
       "      <td>100.18</td>\n",
       "      <td>10.08</td>\n",
       "      <td>11.63</td>\n",
       "      <td>7.12</td>\n",
       "      <td>4.52</td>\n",
       "      <td>259.75</td>\n",
       "      <td>5.74</td>\n",
       "      <td>...</td>\n",
       "      <td>6.13</td>\n",
       "      <td>6.18</td>\n",
       "      <td>4.82</td>\n",
       "      <td>8.14</td>\n",
       "      <td>3.32</td>\n",
       "      <td>261.56</td>\n",
       "      <td>5.87</td>\n",
       "      <td>9.84</td>\n",
       "      <td>15.71</td>\n",
       "      <td>13.60</td>\n",
       "    </tr>\n",
       "    <tr>\n",
       "      <th>1</th>\n",
       "      <td>1981</td>\n",
       "      <td>1</td>\n",
       "      <td>3</td>\n",
       "      <td>98.95</td>\n",
       "      <td>12.04</td>\n",
       "      <td>13.94</td>\n",
       "      <td>7.08</td>\n",
       "      <td>6.86</td>\n",
       "      <td>278.56</td>\n",
       "      <td>5.19</td>\n",
       "      <td>...</td>\n",
       "      <td>5.27</td>\n",
       "      <td>6.01</td>\n",
       "      <td>5.88</td>\n",
       "      <td>9.28</td>\n",
       "      <td>3.40</td>\n",
       "      <td>280.12</td>\n",
       "      <td>8.47</td>\n",
       "      <td>10.25</td>\n",
       "      <td>18.73</td>\n",
       "      <td>16.36</td>\n",
       "    </tr>\n",
       "    <tr>\n",
       "      <th>2</th>\n",
       "      <td>1981</td>\n",
       "      <td>1</td>\n",
       "      <td>4</td>\n",
       "      <td>99.81</td>\n",
       "      <td>8.08</td>\n",
       "      <td>13.40</td>\n",
       "      <td>5.24</td>\n",
       "      <td>8.16</td>\n",
       "      <td>298.94</td>\n",
       "      <td>3.72</td>\n",
       "      <td>...</td>\n",
       "      <td>0.55</td>\n",
       "      <td>0.98</td>\n",
       "      <td>3.79</td>\n",
       "      <td>3.27</td>\n",
       "      <td>-0.51</td>\n",
       "      <td>300.25</td>\n",
       "      <td>9.35</td>\n",
       "      <td>8.27</td>\n",
       "      <td>17.62</td>\n",
       "      <td>11.34</td>\n",
       "    </tr>\n",
       "    <tr>\n",
       "      <th>3</th>\n",
       "      <td>1981</td>\n",
       "      <td>1</td>\n",
       "      <td>5</td>\n",
       "      <td>100.97</td>\n",
       "      <td>5.11</td>\n",
       "      <td>11.06</td>\n",
       "      <td>2.84</td>\n",
       "      <td>8.23</td>\n",
       "      <td>285.31</td>\n",
       "      <td>3.54</td>\n",
       "      <td>...</td>\n",
       "      <td>-0.40</td>\n",
       "      <td>-0.42</td>\n",
       "      <td>6.94</td>\n",
       "      <td>3.81</td>\n",
       "      <td>-3.13</td>\n",
       "      <td>286.44</td>\n",
       "      <td>11.88</td>\n",
       "      <td>3.43</td>\n",
       "      <td>15.31</td>\n",
       "      <td>7.98</td>\n",
       "    </tr>\n",
       "    <tr>\n",
       "      <th>4</th>\n",
       "      <td>1981</td>\n",
       "      <td>1</td>\n",
       "      <td>6</td>\n",
       "      <td>100.92</td>\n",
       "      <td>6.09</td>\n",
       "      <td>11.78</td>\n",
       "      <td>1.88</td>\n",
       "      <td>9.89</td>\n",
       "      <td>262.75</td>\n",
       "      <td>4.39</td>\n",
       "      <td>...</td>\n",
       "      <td>2.42</td>\n",
       "      <td>2.33</td>\n",
       "      <td>4.71</td>\n",
       "      <td>4.83</td>\n",
       "      <td>0.12</td>\n",
       "      <td>263.69</td>\n",
       "      <td>13.02</td>\n",
       "      <td>3.18</td>\n",
       "      <td>16.20</td>\n",
       "      <td>8.91</td>\n",
       "    </tr>\n",
       "  </tbody>\n",
       "</table>\n",
       "<p>5 rows × 24 columns</p>\n",
       "</div>"
      ],
      "text/plain": [
       "   YEAR  MO  DY      PS  WS10M  WS10M_MAX  WS10M_MIN  WS10M_RANGE   WD10M  \\\n",
       "0  1981   1   2  100.18  10.08      11.63       7.12         4.52  259.75   \n",
       "1  1981   1   3   98.95  12.04      13.94       7.08         6.86  278.56   \n",
       "2  1981   1   4   99.81   8.08      13.40       5.24         8.16  298.94   \n",
       "3  1981   1   5  100.97   5.11      11.06       2.84         8.23  285.31   \n",
       "4  1981   1   6  100.92   6.09      11.78       1.88         9.89  262.75   \n",
       "\n",
       "   QV2M  ...  T2MWET    TS  T2M_RANGE  T2M_MAX  T2M_MIN   WD50M  WS50M_RANGE  \\\n",
       "0  5.74  ...    6.13  6.18       4.82     8.14     3.32  261.56         5.87   \n",
       "1  5.19  ...    5.27  6.01       5.88     9.28     3.40  280.12         8.47   \n",
       "2  3.72  ...    0.55  0.98       3.79     3.27    -0.51  300.25         9.35   \n",
       "3  3.54  ...   -0.40 -0.42       6.94     3.81    -3.13  286.44        11.88   \n",
       "4  4.39  ...    2.42  2.33       4.71     4.83     0.12  263.69        13.02   \n",
       "\n",
       "   WS50M_MIN  WS50M_MAX  WS50M  \n",
       "0       9.84      15.71  13.60  \n",
       "1      10.25      18.73  16.36  \n",
       "2       8.27      17.62  11.34  \n",
       "3       3.43      15.31   7.98  \n",
       "4       3.18      16.20   8.91  \n",
       "\n",
       "[5 rows x 24 columns]"
      ]
     },
     "execution_count": 5,
     "metadata": {},
     "output_type": "execute_result"
    }
   ],
   "source": [
    "data.head()"
   ]
  },
  {
   "cell_type": "code",
   "execution_count": 6,
   "id": "f4e1530b",
   "metadata": {},
   "outputs": [
    {
     "data": {
      "text/plain": [
       "Index(['YEAR', 'MO', 'DY', 'PS', 'WS10M', 'WS10M_MAX', 'WS10M_MIN',\n",
       "       'WS10M_RANGE', 'WD10M', 'QV2M', 'RH2M', 'PRECTOTCORR', 'T2M', 'T2MDEW',\n",
       "       'T2MWET', 'TS', 'T2M_RANGE', 'T2M_MAX', 'T2M_MIN', 'WD50M',\n",
       "       'WS50M_RANGE', 'WS50M_MIN', 'WS50M_MAX', 'WS50M'],\n",
       "      dtype='object')"
      ]
     },
     "execution_count": 6,
     "metadata": {},
     "output_type": "execute_result"
    }
   ],
   "source": [
    "data.columns"
   ]
  },
  {
   "cell_type": "markdown",
   "id": "f50e16c7",
   "metadata": {},
   "source": [
    "# General Cleaning Techniques"
   ]
  },
  {
   "cell_type": "markdown",
   "id": "b64655d2",
   "metadata": {},
   "source": [
    "### 1. Combaining YEAR and DOY columns into Date column"
   ]
  },
  {
   "cell_type": "code",
   "execution_count": 7,
   "id": "588be96d",
   "metadata": {},
   "outputs": [],
   "source": [
    "df2 = data[[\"YEAR\", \"MO\", \"DY\"]].copy()\n",
    "df2.columns = [\"year\", \"month\", \"day\"]\n",
    "data['date']= pd.to_datetime(df2)"
   ]
  },
  {
   "cell_type": "code",
   "execution_count": 8,
   "id": "5ce184c1",
   "metadata": {},
   "outputs": [],
   "source": [
    "# removing YEAR and DOY from the data\n",
    "data = data.drop(['YEAR','MO', 'DY'], axis=1)"
   ]
  },
  {
   "cell_type": "code",
   "execution_count": 9,
   "id": "befd0f75",
   "metadata": {},
   "outputs": [],
   "source": [
    "# Move 'date' column to the first position\n",
    "cols = data.columns.tolist()\n",
    "cols = ['date'] + [col for col in cols if col != 'date']\n",
    "data = data[cols]"
   ]
  },
  {
   "cell_type": "code",
   "execution_count": 10,
   "id": "720a3ff6",
   "metadata": {},
   "outputs": [
    {
     "data": {
      "text/html": [
       "<div>\n",
       "<style scoped>\n",
       "    .dataframe tbody tr th:only-of-type {\n",
       "        vertical-align: middle;\n",
       "    }\n",
       "\n",
       "    .dataframe tbody tr th {\n",
       "        vertical-align: top;\n",
       "    }\n",
       "\n",
       "    .dataframe thead th {\n",
       "        text-align: right;\n",
       "    }\n",
       "</style>\n",
       "<table border=\"1\" class=\"dataframe\">\n",
       "  <thead>\n",
       "    <tr style=\"text-align: right;\">\n",
       "      <th></th>\n",
       "      <th>date</th>\n",
       "      <th>PS</th>\n",
       "      <th>WS10M</th>\n",
       "      <th>WS10M_MAX</th>\n",
       "      <th>WS10M_MIN</th>\n",
       "      <th>WS10M_RANGE</th>\n",
       "      <th>WD10M</th>\n",
       "      <th>QV2M</th>\n",
       "      <th>RH2M</th>\n",
       "      <th>PRECTOTCORR</th>\n",
       "      <th>...</th>\n",
       "      <th>T2MWET</th>\n",
       "      <th>TS</th>\n",
       "      <th>T2M_RANGE</th>\n",
       "      <th>T2M_MAX</th>\n",
       "      <th>T2M_MIN</th>\n",
       "      <th>WD50M</th>\n",
       "      <th>WS50M_RANGE</th>\n",
       "      <th>WS50M_MIN</th>\n",
       "      <th>WS50M_MAX</th>\n",
       "      <th>WS50M</th>\n",
       "    </tr>\n",
       "  </thead>\n",
       "  <tbody>\n",
       "    <tr>\n",
       "      <th>0</th>\n",
       "      <td>1981-01-02</td>\n",
       "      <td>100.18</td>\n",
       "      <td>10.08</td>\n",
       "      <td>11.63</td>\n",
       "      <td>7.12</td>\n",
       "      <td>4.52</td>\n",
       "      <td>259.75</td>\n",
       "      <td>5.74</td>\n",
       "      <td>94.00</td>\n",
       "      <td>2.78</td>\n",
       "      <td>...</td>\n",
       "      <td>6.13</td>\n",
       "      <td>6.18</td>\n",
       "      <td>4.82</td>\n",
       "      <td>8.14</td>\n",
       "      <td>3.32</td>\n",
       "      <td>261.56</td>\n",
       "      <td>5.87</td>\n",
       "      <td>9.84</td>\n",
       "      <td>15.71</td>\n",
       "      <td>13.60</td>\n",
       "    </tr>\n",
       "    <tr>\n",
       "      <th>1</th>\n",
       "      <td>1981-01-03</td>\n",
       "      <td>98.95</td>\n",
       "      <td>12.04</td>\n",
       "      <td>13.94</td>\n",
       "      <td>7.08</td>\n",
       "      <td>6.86</td>\n",
       "      <td>278.56</td>\n",
       "      <td>5.19</td>\n",
       "      <td>83.50</td>\n",
       "      <td>0.77</td>\n",
       "      <td>...</td>\n",
       "      <td>5.27</td>\n",
       "      <td>6.01</td>\n",
       "      <td>5.88</td>\n",
       "      <td>9.28</td>\n",
       "      <td>3.40</td>\n",
       "      <td>280.12</td>\n",
       "      <td>8.47</td>\n",
       "      <td>10.25</td>\n",
       "      <td>18.73</td>\n",
       "      <td>16.36</td>\n",
       "    </tr>\n",
       "    <tr>\n",
       "      <th>2</th>\n",
       "      <td>1981-01-04</td>\n",
       "      <td>99.81</td>\n",
       "      <td>8.08</td>\n",
       "      <td>13.40</td>\n",
       "      <td>5.24</td>\n",
       "      <td>8.16</td>\n",
       "      <td>298.94</td>\n",
       "      <td>3.72</td>\n",
       "      <td>87.81</td>\n",
       "      <td>0.25</td>\n",
       "      <td>...</td>\n",
       "      <td>0.55</td>\n",
       "      <td>0.98</td>\n",
       "      <td>3.79</td>\n",
       "      <td>3.27</td>\n",
       "      <td>-0.51</td>\n",
       "      <td>300.25</td>\n",
       "      <td>9.35</td>\n",
       "      <td>8.27</td>\n",
       "      <td>17.62</td>\n",
       "      <td>11.34</td>\n",
       "    </tr>\n",
       "    <tr>\n",
       "      <th>3</th>\n",
       "      <td>1981-01-05</td>\n",
       "      <td>100.97</td>\n",
       "      <td>5.11</td>\n",
       "      <td>11.06</td>\n",
       "      <td>2.84</td>\n",
       "      <td>8.23</td>\n",
       "      <td>285.31</td>\n",
       "      <td>3.54</td>\n",
       "      <td>93.62</td>\n",
       "      <td>2.00</td>\n",
       "      <td>...</td>\n",
       "      <td>-0.40</td>\n",
       "      <td>-0.42</td>\n",
       "      <td>6.94</td>\n",
       "      <td>3.81</td>\n",
       "      <td>-3.13</td>\n",
       "      <td>286.44</td>\n",
       "      <td>11.88</td>\n",
       "      <td>3.43</td>\n",
       "      <td>15.31</td>\n",
       "      <td>7.98</td>\n",
       "    </tr>\n",
       "    <tr>\n",
       "      <th>4</th>\n",
       "      <td>1981-01-06</td>\n",
       "      <td>100.92</td>\n",
       "      <td>6.09</td>\n",
       "      <td>11.78</td>\n",
       "      <td>1.88</td>\n",
       "      <td>9.89</td>\n",
       "      <td>262.75</td>\n",
       "      <td>4.39</td>\n",
       "      <td>94.81</td>\n",
       "      <td>2.18</td>\n",
       "      <td>...</td>\n",
       "      <td>2.42</td>\n",
       "      <td>2.33</td>\n",
       "      <td>4.71</td>\n",
       "      <td>4.83</td>\n",
       "      <td>0.12</td>\n",
       "      <td>263.69</td>\n",
       "      <td>13.02</td>\n",
       "      <td>3.18</td>\n",
       "      <td>16.20</td>\n",
       "      <td>8.91</td>\n",
       "    </tr>\n",
       "  </tbody>\n",
       "</table>\n",
       "<p>5 rows × 22 columns</p>\n",
       "</div>"
      ],
      "text/plain": [
       "        date      PS  WS10M  WS10M_MAX  WS10M_MIN  WS10M_RANGE   WD10M  QV2M  \\\n",
       "0 1981-01-02  100.18  10.08      11.63       7.12         4.52  259.75  5.74   \n",
       "1 1981-01-03   98.95  12.04      13.94       7.08         6.86  278.56  5.19   \n",
       "2 1981-01-04   99.81   8.08      13.40       5.24         8.16  298.94  3.72   \n",
       "3 1981-01-05  100.97   5.11      11.06       2.84         8.23  285.31  3.54   \n",
       "4 1981-01-06  100.92   6.09      11.78       1.88         9.89  262.75  4.39   \n",
       "\n",
       "    RH2M  PRECTOTCORR  ...  T2MWET    TS  T2M_RANGE  T2M_MAX  T2M_MIN   WD50M  \\\n",
       "0  94.00         2.78  ...    6.13  6.18       4.82     8.14     3.32  261.56   \n",
       "1  83.50         0.77  ...    5.27  6.01       5.88     9.28     3.40  280.12   \n",
       "2  87.81         0.25  ...    0.55  0.98       3.79     3.27    -0.51  300.25   \n",
       "3  93.62         2.00  ...   -0.40 -0.42       6.94     3.81    -3.13  286.44   \n",
       "4  94.81         2.18  ...    2.42  2.33       4.71     4.83     0.12  263.69   \n",
       "\n",
       "   WS50M_RANGE  WS50M_MIN  WS50M_MAX  WS50M  \n",
       "0         5.87       9.84      15.71  13.60  \n",
       "1         8.47      10.25      18.73  16.36  \n",
       "2         9.35       8.27      17.62  11.34  \n",
       "3        11.88       3.43      15.31   7.98  \n",
       "4        13.02       3.18      16.20   8.91  \n",
       "\n",
       "[5 rows x 22 columns]"
      ]
     },
     "execution_count": 10,
     "metadata": {},
     "output_type": "execute_result"
    }
   ],
   "source": [
    "data.head()"
   ]
  },
  {
   "cell_type": "code",
   "execution_count": 11,
   "id": "b561fd16",
   "metadata": {},
   "outputs": [],
   "source": [
    "# Define a dictionary to map the original column names to meaningful names\n",
    "column_mapping = {\"PS\":\"SP\",\"QV2M\":\"SH2M\",\"PRECTOTCORR\":\"Rainfall\",\"TS\":\"TSkin\"}"
   ]
  },
  {
   "cell_type": "code",
   "execution_count": 12,
   "id": "6210cb2d",
   "metadata": {},
   "outputs": [],
   "source": [
    "# Rename the columns using the mapping dictionary\n",
    "data = data.rename(columns=column_mapping)"
   ]
  },
  {
   "cell_type": "code",
   "execution_count": 13,
   "id": "6c50fd91",
   "metadata": {},
   "outputs": [
    {
     "data": {
      "text/plain": [
       "Index(['date', 'SP', 'WS10M', 'WS10M_MAX', 'WS10M_MIN', 'WS10M_RANGE', 'WD10M',\n",
       "       'SH2M', 'RH2M', 'Rainfall', 'T2M', 'T2MDEW', 'T2MWET', 'TSkin',\n",
       "       'T2M_RANGE', 'T2M_MAX', 'T2M_MIN', 'WD50M', 'WS50M_RANGE', 'WS50M_MIN',\n",
       "       'WS50M_MAX', 'WS50M'],\n",
       "      dtype='object')"
      ]
     },
     "execution_count": 13,
     "metadata": {},
     "output_type": "execute_result"
    }
   ],
   "source": [
    "data.columns"
   ]
  },
  {
   "cell_type": "code",
   "execution_count": 14,
   "id": "5d5470fc",
   "metadata": {},
   "outputs": [
    {
     "data": {
      "text/html": [
       "<div>\n",
       "<style scoped>\n",
       "    .dataframe tbody tr th:only-of-type {\n",
       "        vertical-align: middle;\n",
       "    }\n",
       "\n",
       "    .dataframe tbody tr th {\n",
       "        vertical-align: top;\n",
       "    }\n",
       "\n",
       "    .dataframe thead th {\n",
       "        text-align: right;\n",
       "    }\n",
       "</style>\n",
       "<table border=\"1\" class=\"dataframe\">\n",
       "  <thead>\n",
       "    <tr style=\"text-align: right;\">\n",
       "      <th></th>\n",
       "      <th>date</th>\n",
       "      <th>SP</th>\n",
       "      <th>WS10M</th>\n",
       "      <th>WS10M_MAX</th>\n",
       "      <th>WS10M_MIN</th>\n",
       "      <th>WS10M_RANGE</th>\n",
       "      <th>WD10M</th>\n",
       "      <th>SH2M</th>\n",
       "      <th>RH2M</th>\n",
       "      <th>Rainfall</th>\n",
       "      <th>...</th>\n",
       "      <th>T2MWET</th>\n",
       "      <th>TSkin</th>\n",
       "      <th>T2M_RANGE</th>\n",
       "      <th>T2M_MAX</th>\n",
       "      <th>T2M_MIN</th>\n",
       "      <th>WD50M</th>\n",
       "      <th>WS50M_RANGE</th>\n",
       "      <th>WS50M_MIN</th>\n",
       "      <th>WS50M_MAX</th>\n",
       "      <th>WS50M</th>\n",
       "    </tr>\n",
       "  </thead>\n",
       "  <tbody>\n",
       "    <tr>\n",
       "      <th>0</th>\n",
       "      <td>1981-01-02</td>\n",
       "      <td>100.18</td>\n",
       "      <td>10.08</td>\n",
       "      <td>11.63</td>\n",
       "      <td>7.12</td>\n",
       "      <td>4.52</td>\n",
       "      <td>259.75</td>\n",
       "      <td>5.74</td>\n",
       "      <td>94.00</td>\n",
       "      <td>2.78</td>\n",
       "      <td>...</td>\n",
       "      <td>6.13</td>\n",
       "      <td>6.18</td>\n",
       "      <td>4.82</td>\n",
       "      <td>8.14</td>\n",
       "      <td>3.32</td>\n",
       "      <td>261.56</td>\n",
       "      <td>5.87</td>\n",
       "      <td>9.84</td>\n",
       "      <td>15.71</td>\n",
       "      <td>13.60</td>\n",
       "    </tr>\n",
       "    <tr>\n",
       "      <th>1</th>\n",
       "      <td>1981-01-03</td>\n",
       "      <td>98.95</td>\n",
       "      <td>12.04</td>\n",
       "      <td>13.94</td>\n",
       "      <td>7.08</td>\n",
       "      <td>6.86</td>\n",
       "      <td>278.56</td>\n",
       "      <td>5.19</td>\n",
       "      <td>83.50</td>\n",
       "      <td>0.77</td>\n",
       "      <td>...</td>\n",
       "      <td>5.27</td>\n",
       "      <td>6.01</td>\n",
       "      <td>5.88</td>\n",
       "      <td>9.28</td>\n",
       "      <td>3.40</td>\n",
       "      <td>280.12</td>\n",
       "      <td>8.47</td>\n",
       "      <td>10.25</td>\n",
       "      <td>18.73</td>\n",
       "      <td>16.36</td>\n",
       "    </tr>\n",
       "    <tr>\n",
       "      <th>2</th>\n",
       "      <td>1981-01-04</td>\n",
       "      <td>99.81</td>\n",
       "      <td>8.08</td>\n",
       "      <td>13.40</td>\n",
       "      <td>5.24</td>\n",
       "      <td>8.16</td>\n",
       "      <td>298.94</td>\n",
       "      <td>3.72</td>\n",
       "      <td>87.81</td>\n",
       "      <td>0.25</td>\n",
       "      <td>...</td>\n",
       "      <td>0.55</td>\n",
       "      <td>0.98</td>\n",
       "      <td>3.79</td>\n",
       "      <td>3.27</td>\n",
       "      <td>-0.51</td>\n",
       "      <td>300.25</td>\n",
       "      <td>9.35</td>\n",
       "      <td>8.27</td>\n",
       "      <td>17.62</td>\n",
       "      <td>11.34</td>\n",
       "    </tr>\n",
       "    <tr>\n",
       "      <th>3</th>\n",
       "      <td>1981-01-05</td>\n",
       "      <td>100.97</td>\n",
       "      <td>5.11</td>\n",
       "      <td>11.06</td>\n",
       "      <td>2.84</td>\n",
       "      <td>8.23</td>\n",
       "      <td>285.31</td>\n",
       "      <td>3.54</td>\n",
       "      <td>93.62</td>\n",
       "      <td>2.00</td>\n",
       "      <td>...</td>\n",
       "      <td>-0.40</td>\n",
       "      <td>-0.42</td>\n",
       "      <td>6.94</td>\n",
       "      <td>3.81</td>\n",
       "      <td>-3.13</td>\n",
       "      <td>286.44</td>\n",
       "      <td>11.88</td>\n",
       "      <td>3.43</td>\n",
       "      <td>15.31</td>\n",
       "      <td>7.98</td>\n",
       "    </tr>\n",
       "    <tr>\n",
       "      <th>4</th>\n",
       "      <td>1981-01-06</td>\n",
       "      <td>100.92</td>\n",
       "      <td>6.09</td>\n",
       "      <td>11.78</td>\n",
       "      <td>1.88</td>\n",
       "      <td>9.89</td>\n",
       "      <td>262.75</td>\n",
       "      <td>4.39</td>\n",
       "      <td>94.81</td>\n",
       "      <td>2.18</td>\n",
       "      <td>...</td>\n",
       "      <td>2.42</td>\n",
       "      <td>2.33</td>\n",
       "      <td>4.71</td>\n",
       "      <td>4.83</td>\n",
       "      <td>0.12</td>\n",
       "      <td>263.69</td>\n",
       "      <td>13.02</td>\n",
       "      <td>3.18</td>\n",
       "      <td>16.20</td>\n",
       "      <td>8.91</td>\n",
       "    </tr>\n",
       "  </tbody>\n",
       "</table>\n",
       "<p>5 rows × 22 columns</p>\n",
       "</div>"
      ],
      "text/plain": [
       "        date      SP  WS10M  WS10M_MAX  WS10M_MIN  WS10M_RANGE   WD10M  SH2M  \\\n",
       "0 1981-01-02  100.18  10.08      11.63       7.12         4.52  259.75  5.74   \n",
       "1 1981-01-03   98.95  12.04      13.94       7.08         6.86  278.56  5.19   \n",
       "2 1981-01-04   99.81   8.08      13.40       5.24         8.16  298.94  3.72   \n",
       "3 1981-01-05  100.97   5.11      11.06       2.84         8.23  285.31  3.54   \n",
       "4 1981-01-06  100.92   6.09      11.78       1.88         9.89  262.75  4.39   \n",
       "\n",
       "    RH2M  Rainfall  ...  T2MWET  TSkin  T2M_RANGE  T2M_MAX  T2M_MIN   WD50M  \\\n",
       "0  94.00      2.78  ...    6.13   6.18       4.82     8.14     3.32  261.56   \n",
       "1  83.50      0.77  ...    5.27   6.01       5.88     9.28     3.40  280.12   \n",
       "2  87.81      0.25  ...    0.55   0.98       3.79     3.27    -0.51  300.25   \n",
       "3  93.62      2.00  ...   -0.40  -0.42       6.94     3.81    -3.13  286.44   \n",
       "4  94.81      2.18  ...    2.42   2.33       4.71     4.83     0.12  263.69   \n",
       "\n",
       "   WS50M_RANGE  WS50M_MIN  WS50M_MAX  WS50M  \n",
       "0         5.87       9.84      15.71  13.60  \n",
       "1         8.47      10.25      18.73  16.36  \n",
       "2         9.35       8.27      17.62  11.34  \n",
       "3        11.88       3.43      15.31   7.98  \n",
       "4        13.02       3.18      16.20   8.91  \n",
       "\n",
       "[5 rows x 22 columns]"
      ]
     },
     "execution_count": 14,
     "metadata": {},
     "output_type": "execute_result"
    }
   ],
   "source": [
    "data.head()"
   ]
  },
  {
   "cell_type": "markdown",
   "id": "167581c0",
   "metadata": {},
   "source": [
    "### 2. checking for duplicates"
   ]
  },
  {
   "cell_type": "code",
   "execution_count": 15,
   "id": "645b3e38",
   "metadata": {},
   "outputs": [
    {
     "data": {
      "text/plain": [
       "(15551, 22)"
      ]
     },
     "execution_count": 15,
     "metadata": {},
     "output_type": "execute_result"
    }
   ],
   "source": [
    "data.shape"
   ]
  },
  {
   "cell_type": "code",
   "execution_count": 16,
   "id": "bbcdfea4",
   "metadata": {},
   "outputs": [],
   "source": [
    "data.drop_duplicates(inplace=True)"
   ]
  },
  {
   "cell_type": "code",
   "execution_count": 17,
   "id": "aed227b4",
   "metadata": {},
   "outputs": [
    {
     "data": {
      "text/plain": [
       "(15551, 22)"
      ]
     },
     "execution_count": 17,
     "metadata": {},
     "output_type": "execute_result"
    }
   ],
   "source": [
    "data.shape"
   ]
  },
  {
   "cell_type": "markdown",
   "id": "8cacbe1a",
   "metadata": {},
   "source": [
    "#### No duplicates found"
   ]
  },
  {
   "cell_type": "code",
   "execution_count": 18,
   "id": "07fa2791",
   "metadata": {},
   "outputs": [
    {
     "data": {
      "text/plain": [
       "date           datetime64[ns]\n",
       "SP                    float64\n",
       "WS10M                 float64\n",
       "WS10M_MAX             float64\n",
       "WS10M_MIN             float64\n",
       "WS10M_RANGE           float64\n",
       "WD10M                 float64\n",
       "SH2M                  float64\n",
       "RH2M                  float64\n",
       "Rainfall              float64\n",
       "T2M                   float64\n",
       "T2MDEW                float64\n",
       "T2MWET                float64\n",
       "TSkin                 float64\n",
       "T2M_RANGE             float64\n",
       "T2M_MAX               float64\n",
       "T2M_MIN               float64\n",
       "WD50M                 float64\n",
       "WS50M_RANGE           float64\n",
       "WS50M_MIN             float64\n",
       "WS50M_MAX             float64\n",
       "WS50M                 float64\n",
       "dtype: object"
      ]
     },
     "execution_count": 18,
     "metadata": {},
     "output_type": "execute_result"
    }
   ],
   "source": [
    "data.dtypes"
   ]
  },
  {
   "cell_type": "markdown",
   "id": "83997040",
   "metadata": {},
   "source": [
    "#### Every column contains float types"
   ]
  },
  {
   "cell_type": "markdown",
   "id": "c2191334",
   "metadata": {},
   "source": [
    "### 3. Missing Values"
   ]
  },
  {
   "cell_type": "code",
   "execution_count": 19,
   "id": "7b904148",
   "metadata": {},
   "outputs": [
    {
     "data": {
      "text/plain": [
       "date           0\n",
       "SP             0\n",
       "WS10M          0\n",
       "WS10M_MAX      0\n",
       "WS10M_MIN      0\n",
       "WS10M_RANGE    0\n",
       "WD10M          0\n",
       "SH2M           0\n",
       "RH2M           0\n",
       "Rainfall       0\n",
       "T2M            0\n",
       "T2MDEW         0\n",
       "T2MWET         0\n",
       "TSkin          0\n",
       "T2M_RANGE      0\n",
       "T2M_MAX        0\n",
       "T2M_MIN        0\n",
       "WD50M          0\n",
       "WS50M_RANGE    0\n",
       "WS50M_MIN      0\n",
       "WS50M_MAX      0\n",
       "WS50M          0\n",
       "dtype: int64"
      ]
     },
     "execution_count": 19,
     "metadata": {},
     "output_type": "execute_result"
    }
   ],
   "source": [
    "data.isna().sum()"
   ]
  },
  {
   "cell_type": "code",
   "execution_count": 20,
   "id": "19b344f8",
   "metadata": {},
   "outputs": [
    {
     "data": {
      "text/plain": [
       "date           0\n",
       "SP             0\n",
       "WS10M          0\n",
       "WS10M_MAX      0\n",
       "WS10M_MIN      0\n",
       "WS10M_RANGE    0\n",
       "WD10M          0\n",
       "SH2M           0\n",
       "RH2M           0\n",
       "Rainfall       0\n",
       "T2M            0\n",
       "T2MDEW         0\n",
       "T2MWET         0\n",
       "TSkin          0\n",
       "T2M_RANGE      0\n",
       "T2M_MAX        0\n",
       "T2M_MIN        0\n",
       "WD50M          0\n",
       "WS50M_RANGE    0\n",
       "WS50M_MIN      0\n",
       "WS50M_MAX      0\n",
       "WS50M          0\n",
       "dtype: int64"
      ]
     },
     "execution_count": 20,
     "metadata": {},
     "output_type": "execute_result"
    }
   ],
   "source": [
    "data.isnull().sum()"
   ]
  },
  {
   "cell_type": "markdown",
   "id": "d620b700",
   "metadata": {},
   "source": [
    "#### No missing or null value found!"
   ]
  },
  {
   "cell_type": "code",
   "execution_count": 21,
   "id": "817e5358",
   "metadata": {},
   "outputs": [
    {
     "name": "stdout",
     "output_type": "stream",
     "text": [
      "date           0\n",
      "SP             0\n",
      "WS10M          0\n",
      "WS10M_MAX      0\n",
      "WS10M_MIN      0\n",
      "WS10M_RANGE    0\n",
      "WD10M          0\n",
      "SH2M           0\n",
      "RH2M           0\n",
      "Rainfall       0\n",
      "T2M            0\n",
      "T2MDEW         0\n",
      "T2MWET         0\n",
      "TSkin          0\n",
      "T2M_RANGE      0\n",
      "T2M_MAX        0\n",
      "T2M_MIN        0\n",
      "WD50M          0\n",
      "WS50M_RANGE    0\n",
      "WS50M_MIN      0\n",
      "WS50M_MAX      0\n",
      "WS50M          0\n",
      "dtype: int64\n"
     ]
    }
   ],
   "source": [
    "# Count occurrences of a specific value in each column\n",
    "target_value = -999.0\n",
    "counts = data.apply(lambda x: x.value_counts().get(target_value, 0))\n",
    "\n",
    "print(counts)"
   ]
  },
  {
   "cell_type": "code",
   "execution_count": 22,
   "id": "2f5f85d8",
   "metadata": {},
   "outputs": [
    {
     "data": {
      "text/plain": [
       "(15551, 22)"
      ]
     },
     "execution_count": 22,
     "metadata": {},
     "output_type": "execute_result"
    }
   ],
   "source": [
    "data.shape"
   ]
  },
  {
   "cell_type": "code",
   "execution_count": 23,
   "id": "358f7c97",
   "metadata": {},
   "outputs": [],
   "source": [
    "# write final data to csv\n",
    "data.to_csv(\"England_dataset_cleaned.csv\",index=0)"
   ]
  },
  {
   "cell_type": "markdown",
   "id": "51e484cf",
   "metadata": {},
   "source": [
    "#### ################################################################################################"
   ]
  }
 ],
 "metadata": {
  "hide_input": false,
  "kernelspec": {
   "display_name": "Python 3 (ipykernel)",
   "language": "python",
   "name": "python3"
  },
  "language_info": {
   "codemirror_mode": {
    "name": "ipython",
    "version": 3
   },
   "file_extension": ".py",
   "mimetype": "text/x-python",
   "name": "python",
   "nbconvert_exporter": "python",
   "pygments_lexer": "ipython3",
   "version": "3.9.12"
  }
 },
 "nbformat": 4,
 "nbformat_minor": 5
}
