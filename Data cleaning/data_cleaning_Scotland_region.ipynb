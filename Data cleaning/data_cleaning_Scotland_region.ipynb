{
 "cells": [
  {
   "cell_type": "code",
   "execution_count": 1,
   "id": "a7638211",
   "metadata": {},
   "outputs": [],
   "source": [
    "# Author: Geethu Thottungal Harilal\n",
    "# data from : https://power.larc.nasa.gov/data-access-viewer/\n",
    "\n",
    "# This code will check the missing data, format the date coulmn and handles the columns with outliers \n",
    "# and chnages the column names into meaningful manner for Scotland area\n"
   ]
  },
  {
   "cell_type": "markdown",
   "id": "3341b6cb",
   "metadata": {},
   "source": [
    "### Imports"
   ]
  },
  {
   "cell_type": "code",
   "execution_count": 2,
   "id": "8c349d2a",
   "metadata": {},
   "outputs": [],
   "source": [
    "# import required libraries\n",
    "import pandas as pd\n",
    "import matplotlib.pyplot as plt\n",
    "import seaborn as sns\n",
    "import numpy as np\n"
   ]
  },
  {
   "cell_type": "markdown",
   "id": "1c7c99ef",
   "metadata": {},
   "source": [
    "## Reading dataset"
   ]
  },
  {
   "cell_type": "code",
   "execution_count": 3,
   "id": "3b2e385d",
   "metadata": {},
   "outputs": [],
   "source": [
    "data = pd.read_csv(\"Scotland_daily_1981-2023 July.csv\")"
   ]
  },
  {
   "cell_type": "code",
   "execution_count": 4,
   "id": "1429d092",
   "metadata": {},
   "outputs": [
    {
     "data": {
      "text/plain": [
       "(15551, 24)"
      ]
     },
     "execution_count": 4,
     "metadata": {},
     "output_type": "execute_result"
    }
   ],
   "source": [
    "data.shape"
   ]
  },
  {
   "cell_type": "code",
   "execution_count": 5,
   "id": "2d00de70",
   "metadata": {},
   "outputs": [
    {
     "data": {
      "text/html": [
       "<div>\n",
       "<style scoped>\n",
       "    .dataframe tbody tr th:only-of-type {\n",
       "        vertical-align: middle;\n",
       "    }\n",
       "\n",
       "    .dataframe tbody tr th {\n",
       "        vertical-align: top;\n",
       "    }\n",
       "\n",
       "    .dataframe thead th {\n",
       "        text-align: right;\n",
       "    }\n",
       "</style>\n",
       "<table border=\"1\" class=\"dataframe\">\n",
       "  <thead>\n",
       "    <tr style=\"text-align: right;\">\n",
       "      <th></th>\n",
       "      <th>YEAR</th>\n",
       "      <th>MO</th>\n",
       "      <th>DY</th>\n",
       "      <th>T2M</th>\n",
       "      <th>T2MDEW</th>\n",
       "      <th>T2MWET</th>\n",
       "      <th>TS</th>\n",
       "      <th>T2M_RANGE</th>\n",
       "      <th>T2M_MAX</th>\n",
       "      <th>T2M_MIN</th>\n",
       "      <th>...</th>\n",
       "      <th>WS10M</th>\n",
       "      <th>WS10M_MAX</th>\n",
       "      <th>WS10M_MIN</th>\n",
       "      <th>WS10M_RANGE</th>\n",
       "      <th>WD10M</th>\n",
       "      <th>WS50M</th>\n",
       "      <th>WS50M_MAX</th>\n",
       "      <th>WS50M_MIN</th>\n",
       "      <th>WS50M_RANGE</th>\n",
       "      <th>WD50M</th>\n",
       "    </tr>\n",
       "  </thead>\n",
       "  <tbody>\n",
       "    <tr>\n",
       "      <th>0</th>\n",
       "      <td>1981</td>\n",
       "      <td>1</td>\n",
       "      <td>2</td>\n",
       "      <td>5.87</td>\n",
       "      <td>5.48</td>\n",
       "      <td>5.68</td>\n",
       "      <td>5.15</td>\n",
       "      <td>4.95</td>\n",
       "      <td>7.37</td>\n",
       "      <td>2.43</td>\n",
       "      <td>...</td>\n",
       "      <td>10.31</td>\n",
       "      <td>12.17</td>\n",
       "      <td>8.17</td>\n",
       "      <td>4.00</td>\n",
       "      <td>263.25</td>\n",
       "      <td>13.89</td>\n",
       "      <td>15.72</td>\n",
       "      <td>11.02</td>\n",
       "      <td>4.70</td>\n",
       "      <td>264.75</td>\n",
       "    </tr>\n",
       "    <tr>\n",
       "      <th>1</th>\n",
       "      <td>1981</td>\n",
       "      <td>1</td>\n",
       "      <td>3</td>\n",
       "      <td>1.56</td>\n",
       "      <td>0.73</td>\n",
       "      <td>1.15</td>\n",
       "      <td>1.15</td>\n",
       "      <td>5.92</td>\n",
       "      <td>3.97</td>\n",
       "      <td>-1.96</td>\n",
       "      <td>...</td>\n",
       "      <td>9.61</td>\n",
       "      <td>12.02</td>\n",
       "      <td>5.22</td>\n",
       "      <td>6.80</td>\n",
       "      <td>291.50</td>\n",
       "      <td>12.61</td>\n",
       "      <td>15.50</td>\n",
       "      <td>8.00</td>\n",
       "      <td>7.50</td>\n",
       "      <td>292.94</td>\n",
       "    </tr>\n",
       "    <tr>\n",
       "      <th>2</th>\n",
       "      <td>1981</td>\n",
       "      <td>1</td>\n",
       "      <td>4</td>\n",
       "      <td>-1.95</td>\n",
       "      <td>-3.17</td>\n",
       "      <td>-2.56</td>\n",
       "      <td>-2.20</td>\n",
       "      <td>2.20</td>\n",
       "      <td>-0.88</td>\n",
       "      <td>-3.08</td>\n",
       "      <td>...</td>\n",
       "      <td>7.20</td>\n",
       "      <td>10.30</td>\n",
       "      <td>3.85</td>\n",
       "      <td>6.46</td>\n",
       "      <td>315.44</td>\n",
       "      <td>9.50</td>\n",
       "      <td>12.83</td>\n",
       "      <td>5.58</td>\n",
       "      <td>7.25</td>\n",
       "      <td>316.56</td>\n",
       "    </tr>\n",
       "    <tr>\n",
       "      <th>3</th>\n",
       "      <td>1981</td>\n",
       "      <td>1</td>\n",
       "      <td>5</td>\n",
       "      <td>-1.37</td>\n",
       "      <td>-2.36</td>\n",
       "      <td>-1.87</td>\n",
       "      <td>-1.66</td>\n",
       "      <td>5.09</td>\n",
       "      <td>1.53</td>\n",
       "      <td>-3.56</td>\n",
       "      <td>...</td>\n",
       "      <td>6.41</td>\n",
       "      <td>13.37</td>\n",
       "      <td>2.51</td>\n",
       "      <td>10.86</td>\n",
       "      <td>284.12</td>\n",
       "      <td>8.54</td>\n",
       "      <td>17.30</td>\n",
       "      <td>3.48</td>\n",
       "      <td>13.84</td>\n",
       "      <td>285.31</td>\n",
       "    </tr>\n",
       "    <tr>\n",
       "      <th>4</th>\n",
       "      <td>1981</td>\n",
       "      <td>1</td>\n",
       "      <td>6</td>\n",
       "      <td>-1.27</td>\n",
       "      <td>-1.92</td>\n",
       "      <td>-1.60</td>\n",
       "      <td>-2.57</td>\n",
       "      <td>4.68</td>\n",
       "      <td>0.72</td>\n",
       "      <td>-3.97</td>\n",
       "      <td>...</td>\n",
       "      <td>3.09</td>\n",
       "      <td>7.30</td>\n",
       "      <td>0.21</td>\n",
       "      <td>7.09</td>\n",
       "      <td>208.62</td>\n",
       "      <td>4.77</td>\n",
       "      <td>9.96</td>\n",
       "      <td>0.27</td>\n",
       "      <td>9.69</td>\n",
       "      <td>209.25</td>\n",
       "    </tr>\n",
       "  </tbody>\n",
       "</table>\n",
       "<p>5 rows × 24 columns</p>\n",
       "</div>"
      ],
      "text/plain": [
       "   YEAR  MO  DY   T2M  T2MDEW  T2MWET    TS  T2M_RANGE  T2M_MAX  T2M_MIN  ...  \\\n",
       "0  1981   1   2  5.87    5.48    5.68  5.15       4.95     7.37     2.43  ...   \n",
       "1  1981   1   3  1.56    0.73    1.15  1.15       5.92     3.97    -1.96  ...   \n",
       "2  1981   1   4 -1.95   -3.17   -2.56 -2.20       2.20    -0.88    -3.08  ...   \n",
       "3  1981   1   5 -1.37   -2.36   -1.87 -1.66       5.09     1.53    -3.56  ...   \n",
       "4  1981   1   6 -1.27   -1.92   -1.60 -2.57       4.68     0.72    -3.97  ...   \n",
       "\n",
       "   WS10M  WS10M_MAX  WS10M_MIN  WS10M_RANGE   WD10M  WS50M  WS50M_MAX  \\\n",
       "0  10.31      12.17       8.17         4.00  263.25  13.89      15.72   \n",
       "1   9.61      12.02       5.22         6.80  291.50  12.61      15.50   \n",
       "2   7.20      10.30       3.85         6.46  315.44   9.50      12.83   \n",
       "3   6.41      13.37       2.51        10.86  284.12   8.54      17.30   \n",
       "4   3.09       7.30       0.21         7.09  208.62   4.77       9.96   \n",
       "\n",
       "   WS50M_MIN  WS50M_RANGE   WD50M  \n",
       "0      11.02         4.70  264.75  \n",
       "1       8.00         7.50  292.94  \n",
       "2       5.58         7.25  316.56  \n",
       "3       3.48        13.84  285.31  \n",
       "4       0.27         9.69  209.25  \n",
       "\n",
       "[5 rows x 24 columns]"
      ]
     },
     "execution_count": 5,
     "metadata": {},
     "output_type": "execute_result"
    }
   ],
   "source": [
    "data.head()"
   ]
  },
  {
   "cell_type": "code",
   "execution_count": 6,
   "id": "f4e1530b",
   "metadata": {},
   "outputs": [
    {
     "data": {
      "text/plain": [
       "Index(['YEAR', 'MO', 'DY', 'T2M', 'T2MDEW', 'T2MWET', 'TS', 'T2M_RANGE',\n",
       "       'T2M_MAX', 'T2M_MIN', 'QV2M', 'RH2M', 'PRECTOTCORR', 'PS', 'WS10M',\n",
       "       'WS10M_MAX', 'WS10M_MIN', 'WS10M_RANGE', 'WD10M', 'WS50M', 'WS50M_MAX',\n",
       "       'WS50M_MIN', 'WS50M_RANGE', 'WD50M'],\n",
       "      dtype='object')"
      ]
     },
     "execution_count": 6,
     "metadata": {},
     "output_type": "execute_result"
    }
   ],
   "source": [
    "data.columns"
   ]
  },
  {
   "cell_type": "markdown",
   "id": "f50e16c7",
   "metadata": {},
   "source": [
    "# General Cleaning Techniques"
   ]
  },
  {
   "cell_type": "markdown",
   "id": "b64655d2",
   "metadata": {},
   "source": [
    "### 1. Combaining YEAR and DOY columns into Date column"
   ]
  },
  {
   "cell_type": "code",
   "execution_count": 7,
   "id": "588be96d",
   "metadata": {},
   "outputs": [],
   "source": [
    "df2 = data[[\"YEAR\", \"MO\", \"DY\"]].copy()\n",
    "df2.columns = [\"year\", \"month\", \"day\"]\n",
    "data['date']= pd.to_datetime(df2)"
   ]
  },
  {
   "cell_type": "code",
   "execution_count": 8,
   "id": "5ce184c1",
   "metadata": {},
   "outputs": [],
   "source": [
    "# removing YEAR and DOY from the data\n",
    "data = data.drop(['YEAR','MO', 'DY'], axis=1)"
   ]
  },
  {
   "cell_type": "code",
   "execution_count": 9,
   "id": "befd0f75",
   "metadata": {},
   "outputs": [],
   "source": [
    "# Move 'date' column to the first position\n",
    "cols = data.columns.tolist()\n",
    "cols = ['date'] + [col for col in cols if col != 'date']\n",
    "data = data[cols]"
   ]
  },
  {
   "cell_type": "code",
   "execution_count": 10,
   "id": "720a3ff6",
   "metadata": {},
   "outputs": [
    {
     "data": {
      "text/html": [
       "<div>\n",
       "<style scoped>\n",
       "    .dataframe tbody tr th:only-of-type {\n",
       "        vertical-align: middle;\n",
       "    }\n",
       "\n",
       "    .dataframe tbody tr th {\n",
       "        vertical-align: top;\n",
       "    }\n",
       "\n",
       "    .dataframe thead th {\n",
       "        text-align: right;\n",
       "    }\n",
       "</style>\n",
       "<table border=\"1\" class=\"dataframe\">\n",
       "  <thead>\n",
       "    <tr style=\"text-align: right;\">\n",
       "      <th></th>\n",
       "      <th>date</th>\n",
       "      <th>T2M</th>\n",
       "      <th>T2MDEW</th>\n",
       "      <th>T2MWET</th>\n",
       "      <th>TS</th>\n",
       "      <th>T2M_RANGE</th>\n",
       "      <th>T2M_MAX</th>\n",
       "      <th>T2M_MIN</th>\n",
       "      <th>QV2M</th>\n",
       "      <th>RH2M</th>\n",
       "      <th>...</th>\n",
       "      <th>WS10M</th>\n",
       "      <th>WS10M_MAX</th>\n",
       "      <th>WS10M_MIN</th>\n",
       "      <th>WS10M_RANGE</th>\n",
       "      <th>WD10M</th>\n",
       "      <th>WS50M</th>\n",
       "      <th>WS50M_MAX</th>\n",
       "      <th>WS50M_MIN</th>\n",
       "      <th>WS50M_RANGE</th>\n",
       "      <th>WD50M</th>\n",
       "    </tr>\n",
       "  </thead>\n",
       "  <tbody>\n",
       "    <tr>\n",
       "      <th>0</th>\n",
       "      <td>1981-01-02</td>\n",
       "      <td>5.87</td>\n",
       "      <td>5.48</td>\n",
       "      <td>5.68</td>\n",
       "      <td>5.15</td>\n",
       "      <td>4.95</td>\n",
       "      <td>7.37</td>\n",
       "      <td>2.43</td>\n",
       "      <td>5.92</td>\n",
       "      <td>97.38</td>\n",
       "      <td>...</td>\n",
       "      <td>10.31</td>\n",
       "      <td>12.17</td>\n",
       "      <td>8.17</td>\n",
       "      <td>4.00</td>\n",
       "      <td>263.25</td>\n",
       "      <td>13.89</td>\n",
       "      <td>15.72</td>\n",
       "      <td>11.02</td>\n",
       "      <td>4.70</td>\n",
       "      <td>264.75</td>\n",
       "    </tr>\n",
       "    <tr>\n",
       "      <th>1</th>\n",
       "      <td>1981-01-03</td>\n",
       "      <td>1.56</td>\n",
       "      <td>0.73</td>\n",
       "      <td>1.15</td>\n",
       "      <td>1.15</td>\n",
       "      <td>5.92</td>\n",
       "      <td>3.97</td>\n",
       "      <td>-1.96</td>\n",
       "      <td>4.27</td>\n",
       "      <td>94.25</td>\n",
       "      <td>...</td>\n",
       "      <td>9.61</td>\n",
       "      <td>12.02</td>\n",
       "      <td>5.22</td>\n",
       "      <td>6.80</td>\n",
       "      <td>291.50</td>\n",
       "      <td>12.61</td>\n",
       "      <td>15.50</td>\n",
       "      <td>8.00</td>\n",
       "      <td>7.50</td>\n",
       "      <td>292.94</td>\n",
       "    </tr>\n",
       "    <tr>\n",
       "      <th>2</th>\n",
       "      <td>1981-01-04</td>\n",
       "      <td>-1.95</td>\n",
       "      <td>-3.17</td>\n",
       "      <td>-2.56</td>\n",
       "      <td>-2.20</td>\n",
       "      <td>2.20</td>\n",
       "      <td>-0.88</td>\n",
       "      <td>-3.08</td>\n",
       "      <td>3.11</td>\n",
       "      <td>92.69</td>\n",
       "      <td>...</td>\n",
       "      <td>7.20</td>\n",
       "      <td>10.30</td>\n",
       "      <td>3.85</td>\n",
       "      <td>6.46</td>\n",
       "      <td>315.44</td>\n",
       "      <td>9.50</td>\n",
       "      <td>12.83</td>\n",
       "      <td>5.58</td>\n",
       "      <td>7.25</td>\n",
       "      <td>316.56</td>\n",
       "    </tr>\n",
       "    <tr>\n",
       "      <th>3</th>\n",
       "      <td>1981-01-05</td>\n",
       "      <td>-1.37</td>\n",
       "      <td>-2.36</td>\n",
       "      <td>-1.87</td>\n",
       "      <td>-1.66</td>\n",
       "      <td>5.09</td>\n",
       "      <td>1.53</td>\n",
       "      <td>-3.56</td>\n",
       "      <td>3.30</td>\n",
       "      <td>94.06</td>\n",
       "      <td>...</td>\n",
       "      <td>6.41</td>\n",
       "      <td>13.37</td>\n",
       "      <td>2.51</td>\n",
       "      <td>10.86</td>\n",
       "      <td>284.12</td>\n",
       "      <td>8.54</td>\n",
       "      <td>17.30</td>\n",
       "      <td>3.48</td>\n",
       "      <td>13.84</td>\n",
       "      <td>285.31</td>\n",
       "    </tr>\n",
       "    <tr>\n",
       "      <th>4</th>\n",
       "      <td>1981-01-06</td>\n",
       "      <td>-1.27</td>\n",
       "      <td>-1.92</td>\n",
       "      <td>-1.60</td>\n",
       "      <td>-2.57</td>\n",
       "      <td>4.68</td>\n",
       "      <td>0.72</td>\n",
       "      <td>-3.97</td>\n",
       "      <td>3.42</td>\n",
       "      <td>96.25</td>\n",
       "      <td>...</td>\n",
       "      <td>3.09</td>\n",
       "      <td>7.30</td>\n",
       "      <td>0.21</td>\n",
       "      <td>7.09</td>\n",
       "      <td>208.62</td>\n",
       "      <td>4.77</td>\n",
       "      <td>9.96</td>\n",
       "      <td>0.27</td>\n",
       "      <td>9.69</td>\n",
       "      <td>209.25</td>\n",
       "    </tr>\n",
       "  </tbody>\n",
       "</table>\n",
       "<p>5 rows × 22 columns</p>\n",
       "</div>"
      ],
      "text/plain": [
       "        date   T2M  T2MDEW  T2MWET    TS  T2M_RANGE  T2M_MAX  T2M_MIN  QV2M  \\\n",
       "0 1981-01-02  5.87    5.48    5.68  5.15       4.95     7.37     2.43  5.92   \n",
       "1 1981-01-03  1.56    0.73    1.15  1.15       5.92     3.97    -1.96  4.27   \n",
       "2 1981-01-04 -1.95   -3.17   -2.56 -2.20       2.20    -0.88    -3.08  3.11   \n",
       "3 1981-01-05 -1.37   -2.36   -1.87 -1.66       5.09     1.53    -3.56  3.30   \n",
       "4 1981-01-06 -1.27   -1.92   -1.60 -2.57       4.68     0.72    -3.97  3.42   \n",
       "\n",
       "    RH2M  ...  WS10M  WS10M_MAX  WS10M_MIN  WS10M_RANGE   WD10M  WS50M  \\\n",
       "0  97.38  ...  10.31      12.17       8.17         4.00  263.25  13.89   \n",
       "1  94.25  ...   9.61      12.02       5.22         6.80  291.50  12.61   \n",
       "2  92.69  ...   7.20      10.30       3.85         6.46  315.44   9.50   \n",
       "3  94.06  ...   6.41      13.37       2.51        10.86  284.12   8.54   \n",
       "4  96.25  ...   3.09       7.30       0.21         7.09  208.62   4.77   \n",
       "\n",
       "   WS50M_MAX  WS50M_MIN  WS50M_RANGE   WD50M  \n",
       "0      15.72      11.02         4.70  264.75  \n",
       "1      15.50       8.00         7.50  292.94  \n",
       "2      12.83       5.58         7.25  316.56  \n",
       "3      17.30       3.48        13.84  285.31  \n",
       "4       9.96       0.27         9.69  209.25  \n",
       "\n",
       "[5 rows x 22 columns]"
      ]
     },
     "execution_count": 10,
     "metadata": {},
     "output_type": "execute_result"
    }
   ],
   "source": [
    "data.head()"
   ]
  },
  {
   "cell_type": "code",
   "execution_count": 11,
   "id": "b561fd16",
   "metadata": {},
   "outputs": [],
   "source": [
    "# Define a dictionary to map the original column names to meaningful names\n",
    "column_mapping = {\"PS\":\"SP\",\"QV2M\":\"SH2M\",\"PRECTOTCORR\":\"Rainfall\",\"TS\":\"TSkin\"}"
   ]
  },
  {
   "cell_type": "code",
   "execution_count": 12,
   "id": "6210cb2d",
   "metadata": {},
   "outputs": [],
   "source": [
    "# Rename the columns using the mapping dictionary\n",
    "data = data.rename(columns=column_mapping)"
   ]
  },
  {
   "cell_type": "code",
   "execution_count": 13,
   "id": "6c50fd91",
   "metadata": {},
   "outputs": [
    {
     "data": {
      "text/plain": [
       "Index(['date', 'T2M', 'T2MDEW', 'T2MWET', 'TSkin', 'T2M_RANGE', 'T2M_MAX',\n",
       "       'T2M_MIN', 'SH2M', 'RH2M', 'Rainfall', 'SP', 'WS10M', 'WS10M_MAX',\n",
       "       'WS10M_MIN', 'WS10M_RANGE', 'WD10M', 'WS50M', 'WS50M_MAX', 'WS50M_MIN',\n",
       "       'WS50M_RANGE', 'WD50M'],\n",
       "      dtype='object')"
      ]
     },
     "execution_count": 13,
     "metadata": {},
     "output_type": "execute_result"
    }
   ],
   "source": [
    "data.columns"
   ]
  },
  {
   "cell_type": "code",
   "execution_count": 14,
   "id": "5d5470fc",
   "metadata": {},
   "outputs": [
    {
     "data": {
      "text/html": [
       "<div>\n",
       "<style scoped>\n",
       "    .dataframe tbody tr th:only-of-type {\n",
       "        vertical-align: middle;\n",
       "    }\n",
       "\n",
       "    .dataframe tbody tr th {\n",
       "        vertical-align: top;\n",
       "    }\n",
       "\n",
       "    .dataframe thead th {\n",
       "        text-align: right;\n",
       "    }\n",
       "</style>\n",
       "<table border=\"1\" class=\"dataframe\">\n",
       "  <thead>\n",
       "    <tr style=\"text-align: right;\">\n",
       "      <th></th>\n",
       "      <th>date</th>\n",
       "      <th>T2M</th>\n",
       "      <th>T2MDEW</th>\n",
       "      <th>T2MWET</th>\n",
       "      <th>TSkin</th>\n",
       "      <th>T2M_RANGE</th>\n",
       "      <th>T2M_MAX</th>\n",
       "      <th>T2M_MIN</th>\n",
       "      <th>SH2M</th>\n",
       "      <th>RH2M</th>\n",
       "      <th>...</th>\n",
       "      <th>WS10M</th>\n",
       "      <th>WS10M_MAX</th>\n",
       "      <th>WS10M_MIN</th>\n",
       "      <th>WS10M_RANGE</th>\n",
       "      <th>WD10M</th>\n",
       "      <th>WS50M</th>\n",
       "      <th>WS50M_MAX</th>\n",
       "      <th>WS50M_MIN</th>\n",
       "      <th>WS50M_RANGE</th>\n",
       "      <th>WD50M</th>\n",
       "    </tr>\n",
       "  </thead>\n",
       "  <tbody>\n",
       "    <tr>\n",
       "      <th>0</th>\n",
       "      <td>1981-01-02</td>\n",
       "      <td>5.87</td>\n",
       "      <td>5.48</td>\n",
       "      <td>5.68</td>\n",
       "      <td>5.15</td>\n",
       "      <td>4.95</td>\n",
       "      <td>7.37</td>\n",
       "      <td>2.43</td>\n",
       "      <td>5.92</td>\n",
       "      <td>97.38</td>\n",
       "      <td>...</td>\n",
       "      <td>10.31</td>\n",
       "      <td>12.17</td>\n",
       "      <td>8.17</td>\n",
       "      <td>4.00</td>\n",
       "      <td>263.25</td>\n",
       "      <td>13.89</td>\n",
       "      <td>15.72</td>\n",
       "      <td>11.02</td>\n",
       "      <td>4.70</td>\n",
       "      <td>264.75</td>\n",
       "    </tr>\n",
       "    <tr>\n",
       "      <th>1</th>\n",
       "      <td>1981-01-03</td>\n",
       "      <td>1.56</td>\n",
       "      <td>0.73</td>\n",
       "      <td>1.15</td>\n",
       "      <td>1.15</td>\n",
       "      <td>5.92</td>\n",
       "      <td>3.97</td>\n",
       "      <td>-1.96</td>\n",
       "      <td>4.27</td>\n",
       "      <td>94.25</td>\n",
       "      <td>...</td>\n",
       "      <td>9.61</td>\n",
       "      <td>12.02</td>\n",
       "      <td>5.22</td>\n",
       "      <td>6.80</td>\n",
       "      <td>291.50</td>\n",
       "      <td>12.61</td>\n",
       "      <td>15.50</td>\n",
       "      <td>8.00</td>\n",
       "      <td>7.50</td>\n",
       "      <td>292.94</td>\n",
       "    </tr>\n",
       "    <tr>\n",
       "      <th>2</th>\n",
       "      <td>1981-01-04</td>\n",
       "      <td>-1.95</td>\n",
       "      <td>-3.17</td>\n",
       "      <td>-2.56</td>\n",
       "      <td>-2.20</td>\n",
       "      <td>2.20</td>\n",
       "      <td>-0.88</td>\n",
       "      <td>-3.08</td>\n",
       "      <td>3.11</td>\n",
       "      <td>92.69</td>\n",
       "      <td>...</td>\n",
       "      <td>7.20</td>\n",
       "      <td>10.30</td>\n",
       "      <td>3.85</td>\n",
       "      <td>6.46</td>\n",
       "      <td>315.44</td>\n",
       "      <td>9.50</td>\n",
       "      <td>12.83</td>\n",
       "      <td>5.58</td>\n",
       "      <td>7.25</td>\n",
       "      <td>316.56</td>\n",
       "    </tr>\n",
       "    <tr>\n",
       "      <th>3</th>\n",
       "      <td>1981-01-05</td>\n",
       "      <td>-1.37</td>\n",
       "      <td>-2.36</td>\n",
       "      <td>-1.87</td>\n",
       "      <td>-1.66</td>\n",
       "      <td>5.09</td>\n",
       "      <td>1.53</td>\n",
       "      <td>-3.56</td>\n",
       "      <td>3.30</td>\n",
       "      <td>94.06</td>\n",
       "      <td>...</td>\n",
       "      <td>6.41</td>\n",
       "      <td>13.37</td>\n",
       "      <td>2.51</td>\n",
       "      <td>10.86</td>\n",
       "      <td>284.12</td>\n",
       "      <td>8.54</td>\n",
       "      <td>17.30</td>\n",
       "      <td>3.48</td>\n",
       "      <td>13.84</td>\n",
       "      <td>285.31</td>\n",
       "    </tr>\n",
       "    <tr>\n",
       "      <th>4</th>\n",
       "      <td>1981-01-06</td>\n",
       "      <td>-1.27</td>\n",
       "      <td>-1.92</td>\n",
       "      <td>-1.60</td>\n",
       "      <td>-2.57</td>\n",
       "      <td>4.68</td>\n",
       "      <td>0.72</td>\n",
       "      <td>-3.97</td>\n",
       "      <td>3.42</td>\n",
       "      <td>96.25</td>\n",
       "      <td>...</td>\n",
       "      <td>3.09</td>\n",
       "      <td>7.30</td>\n",
       "      <td>0.21</td>\n",
       "      <td>7.09</td>\n",
       "      <td>208.62</td>\n",
       "      <td>4.77</td>\n",
       "      <td>9.96</td>\n",
       "      <td>0.27</td>\n",
       "      <td>9.69</td>\n",
       "      <td>209.25</td>\n",
       "    </tr>\n",
       "  </tbody>\n",
       "</table>\n",
       "<p>5 rows × 22 columns</p>\n",
       "</div>"
      ],
      "text/plain": [
       "        date   T2M  T2MDEW  T2MWET  TSkin  T2M_RANGE  T2M_MAX  T2M_MIN  SH2M  \\\n",
       "0 1981-01-02  5.87    5.48    5.68   5.15       4.95     7.37     2.43  5.92   \n",
       "1 1981-01-03  1.56    0.73    1.15   1.15       5.92     3.97    -1.96  4.27   \n",
       "2 1981-01-04 -1.95   -3.17   -2.56  -2.20       2.20    -0.88    -3.08  3.11   \n",
       "3 1981-01-05 -1.37   -2.36   -1.87  -1.66       5.09     1.53    -3.56  3.30   \n",
       "4 1981-01-06 -1.27   -1.92   -1.60  -2.57       4.68     0.72    -3.97  3.42   \n",
       "\n",
       "    RH2M  ...  WS10M  WS10M_MAX  WS10M_MIN  WS10M_RANGE   WD10M  WS50M  \\\n",
       "0  97.38  ...  10.31      12.17       8.17         4.00  263.25  13.89   \n",
       "1  94.25  ...   9.61      12.02       5.22         6.80  291.50  12.61   \n",
       "2  92.69  ...   7.20      10.30       3.85         6.46  315.44   9.50   \n",
       "3  94.06  ...   6.41      13.37       2.51        10.86  284.12   8.54   \n",
       "4  96.25  ...   3.09       7.30       0.21         7.09  208.62   4.77   \n",
       "\n",
       "   WS50M_MAX  WS50M_MIN  WS50M_RANGE   WD50M  \n",
       "0      15.72      11.02         4.70  264.75  \n",
       "1      15.50       8.00         7.50  292.94  \n",
       "2      12.83       5.58         7.25  316.56  \n",
       "3      17.30       3.48        13.84  285.31  \n",
       "4       9.96       0.27         9.69  209.25  \n",
       "\n",
       "[5 rows x 22 columns]"
      ]
     },
     "execution_count": 14,
     "metadata": {},
     "output_type": "execute_result"
    }
   ],
   "source": [
    "data.head()"
   ]
  },
  {
   "cell_type": "markdown",
   "id": "167581c0",
   "metadata": {},
   "source": [
    "### 2. checking for duplicates"
   ]
  },
  {
   "cell_type": "code",
   "execution_count": 15,
   "id": "645b3e38",
   "metadata": {},
   "outputs": [
    {
     "data": {
      "text/plain": [
       "(15551, 22)"
      ]
     },
     "execution_count": 15,
     "metadata": {},
     "output_type": "execute_result"
    }
   ],
   "source": [
    "data.shape"
   ]
  },
  {
   "cell_type": "code",
   "execution_count": 16,
   "id": "bbcdfea4",
   "metadata": {},
   "outputs": [],
   "source": [
    "data.drop_duplicates(inplace=True)"
   ]
  },
  {
   "cell_type": "code",
   "execution_count": 17,
   "id": "aed227b4",
   "metadata": {},
   "outputs": [
    {
     "data": {
      "text/plain": [
       "(15551, 22)"
      ]
     },
     "execution_count": 17,
     "metadata": {},
     "output_type": "execute_result"
    }
   ],
   "source": [
    "data.shape"
   ]
  },
  {
   "cell_type": "markdown",
   "id": "8cacbe1a",
   "metadata": {},
   "source": [
    "#### No duplicates found"
   ]
  },
  {
   "cell_type": "code",
   "execution_count": 18,
   "id": "07fa2791",
   "metadata": {},
   "outputs": [
    {
     "data": {
      "text/plain": [
       "date           datetime64[ns]\n",
       "T2M                   float64\n",
       "T2MDEW                float64\n",
       "T2MWET                float64\n",
       "TSkin                 float64\n",
       "T2M_RANGE             float64\n",
       "T2M_MAX               float64\n",
       "T2M_MIN               float64\n",
       "SH2M                  float64\n",
       "RH2M                  float64\n",
       "Rainfall              float64\n",
       "SP                    float64\n",
       "WS10M                 float64\n",
       "WS10M_MAX             float64\n",
       "WS10M_MIN             float64\n",
       "WS10M_RANGE           float64\n",
       "WD10M                 float64\n",
       "WS50M                 float64\n",
       "WS50M_MAX             float64\n",
       "WS50M_MIN             float64\n",
       "WS50M_RANGE           float64\n",
       "WD50M                 float64\n",
       "dtype: object"
      ]
     },
     "execution_count": 18,
     "metadata": {},
     "output_type": "execute_result"
    }
   ],
   "source": [
    "data.dtypes"
   ]
  },
  {
   "cell_type": "markdown",
   "id": "83997040",
   "metadata": {},
   "source": [
    "#### Every column contains float types"
   ]
  },
  {
   "cell_type": "markdown",
   "id": "c2191334",
   "metadata": {},
   "source": [
    "### 3. Missing Values"
   ]
  },
  {
   "cell_type": "code",
   "execution_count": 19,
   "id": "7b904148",
   "metadata": {},
   "outputs": [
    {
     "data": {
      "text/plain": [
       "date           0\n",
       "T2M            0\n",
       "T2MDEW         0\n",
       "T2MWET         0\n",
       "TSkin          0\n",
       "T2M_RANGE      0\n",
       "T2M_MAX        0\n",
       "T2M_MIN        0\n",
       "SH2M           0\n",
       "RH2M           0\n",
       "Rainfall       0\n",
       "SP             0\n",
       "WS10M          0\n",
       "WS10M_MAX      0\n",
       "WS10M_MIN      0\n",
       "WS10M_RANGE    0\n",
       "WD10M          0\n",
       "WS50M          0\n",
       "WS50M_MAX      0\n",
       "WS50M_MIN      0\n",
       "WS50M_RANGE    0\n",
       "WD50M          0\n",
       "dtype: int64"
      ]
     },
     "execution_count": 19,
     "metadata": {},
     "output_type": "execute_result"
    }
   ],
   "source": [
    "data.isna().sum()"
   ]
  },
  {
   "cell_type": "code",
   "execution_count": 20,
   "id": "19b344f8",
   "metadata": {},
   "outputs": [
    {
     "data": {
      "text/plain": [
       "date           0\n",
       "T2M            0\n",
       "T2MDEW         0\n",
       "T2MWET         0\n",
       "TSkin          0\n",
       "T2M_RANGE      0\n",
       "T2M_MAX        0\n",
       "T2M_MIN        0\n",
       "SH2M           0\n",
       "RH2M           0\n",
       "Rainfall       0\n",
       "SP             0\n",
       "WS10M          0\n",
       "WS10M_MAX      0\n",
       "WS10M_MIN      0\n",
       "WS10M_RANGE    0\n",
       "WD10M          0\n",
       "WS50M          0\n",
       "WS50M_MAX      0\n",
       "WS50M_MIN      0\n",
       "WS50M_RANGE    0\n",
       "WD50M          0\n",
       "dtype: int64"
      ]
     },
     "execution_count": 20,
     "metadata": {},
     "output_type": "execute_result"
    }
   ],
   "source": [
    "data.isnull().sum()"
   ]
  },
  {
   "cell_type": "markdown",
   "id": "d620b700",
   "metadata": {},
   "source": [
    "#### No missing or null value found!"
   ]
  },
  {
   "cell_type": "markdown",
   "id": "b59b3657",
   "metadata": {},
   "source": [
    "#### Check for outliers"
   ]
  },
  {
   "cell_type": "code",
   "execution_count": 21,
   "id": "817e5358",
   "metadata": {},
   "outputs": [
    {
     "name": "stdout",
     "output_type": "stream",
     "text": [
      "date           0\n",
      "T2M            0\n",
      "T2MDEW         0\n",
      "T2MWET         0\n",
      "TSkin          0\n",
      "T2M_RANGE      0\n",
      "T2M_MAX        0\n",
      "T2M_MIN        0\n",
      "SH2M           0\n",
      "RH2M           0\n",
      "Rainfall       0\n",
      "SP             0\n",
      "WS10M          0\n",
      "WS10M_MAX      0\n",
      "WS10M_MIN      0\n",
      "WS10M_RANGE    0\n",
      "WD10M          0\n",
      "WS50M          0\n",
      "WS50M_MAX      0\n",
      "WS50M_MIN      0\n",
      "WS50M_RANGE    0\n",
      "WD50M          0\n",
      "dtype: int64\n"
     ]
    }
   ],
   "source": [
    "# Count occurrences of a specific value in each column\n",
    "target_value = -999.0\n",
    "counts = data.apply(lambda x: x.value_counts().get(target_value, 0))\n",
    "\n",
    "print(counts)"
   ]
  },
  {
   "cell_type": "code",
   "execution_count": 22,
   "id": "2f5f85d8",
   "metadata": {},
   "outputs": [
    {
     "data": {
      "text/plain": [
       "(15551, 22)"
      ]
     },
     "execution_count": 22,
     "metadata": {},
     "output_type": "execute_result"
    }
   ],
   "source": [
    "data.shape"
   ]
  },
  {
   "cell_type": "code",
   "execution_count": 23,
   "id": "358f7c97",
   "metadata": {},
   "outputs": [],
   "source": [
    "# write final data to csv\n",
    "data.to_csv(\"Scotland_dataset_cleaned.csv\",index=0)"
   ]
  },
  {
   "cell_type": "markdown",
   "id": "68024212",
   "metadata": {},
   "source": [
    "#### ################################################################################################"
   ]
  }
 ],
 "metadata": {
  "hide_input": false,
  "kernelspec": {
   "display_name": "Python 3 (ipykernel)",
   "language": "python",
   "name": "python3"
  },
  "language_info": {
   "codemirror_mode": {
    "name": "ipython",
    "version": 3
   },
   "file_extension": ".py",
   "mimetype": "text/x-python",
   "name": "python",
   "nbconvert_exporter": "python",
   "pygments_lexer": "ipython3",
   "version": "3.9.12"
  }
 },
 "nbformat": 4,
 "nbformat_minor": 5
}
